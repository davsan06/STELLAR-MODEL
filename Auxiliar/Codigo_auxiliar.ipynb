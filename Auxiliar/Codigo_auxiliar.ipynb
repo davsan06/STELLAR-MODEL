{
 "cells": [
  {
   "cell_type": "code",
   "execution_count": 137,
   "metadata": {
    "collapsed": true
   },
   "outputs": [],
   "source": [
    "import numpy as np\n",
    "import scipy as sp\n",
    "import pandas as pd\n",
    "\n",
    "# Datos de la estrella (DATOS DEL MODELO DE PRUEBA)\n",
    "X = 0.85\n",
    "Y = 0.10\n",
    "Z = 1 - X - Y\n",
    "Mtot = 5.1\n",
    "\n",
    "#Peso molecular medio\n",
    "mu = 1/(2*X + (3/4)*Y + (1/2)*Z)\n",
    "\n",
    "#Tolerancia en nuestras comparaciones\n",
    "Erelmax = 0.0001\n",
    "\n",
    "#Valores iniciales (DATOS DEL MODELO DE PRUEBA)// Estos son los valores que debemos optimizar con el fin de minimizar el error \n",
    "# relativo en el empalme de las integraciones\n",
    "#Rtot = 10.980000000000002\n",
    "#Ltot = 22.385\n",
    "Tcentral = 1.5\n",
    "\n",
    "Rini = 0.9*Rtot\n",
    "\n",
    "#Paso de integracion\n",
    "h = -Rini/100\n",
    "#Array del radio\n",
    "radio = np.arange(Rini,0,h)\n",
    "radio = np.append(radio,0)\n",
    "#Constantes que aparecen en el calculo\n",
    "A1 = 1.9022*mu*Mtot\n",
    "A2 = 10.645*(Mtot/(mu*Z*(1+X)*Ltot))**(1/2)\n",
    "Cp = 8.084*mu\n",
    "Ct = 0.01679*Z*(1+X)*mu**2\n",
    "Cm = 0.01523*mu\n",
    "Ct_prima = 3.324*mu\n",
    "A3 = 0.4*8.08435*mu*Mtot\n",
    "\n",
    "#Arrays donde iremos guardando los resultados de cada capa iesima\n",
    "temperatura = np.zeros_like(radio)\n",
    "presion = np.zeros_like(radio)\n",
    "masa = np.zeros_like(radio)\n",
    "luminosidad = np.zeros_like(radio)\n",
    "gradiente_presion = np.zeros_like(radio)\n",
    "gradiente_temperatura = np.zeros_like(radio)\n",
    "gradiente_masa = np.zeros_like(radio)\n",
    "gradiente_luminosidad = np.zeros_like(radio)\n",
    "epsilon_ciclo_PP = np.zeros_like(radio)\n",
    "epsilon_ciclo_CN = np.zeros_like(radio)\n",
    "presion_estimada = np.zeros_like(radio)\n",
    "delta1_presion = np.zeros_like(radio)\n",
    "delta2_presion = np.zeros_like(radio)\n",
    "temperatura_estimada = np.zeros_like(radio)\n",
    "delta1_temperatura = np.zeros_like(radio)\n",
    "presion_calculada = np.zeros_like(radio)\n",
    "temperatura_calculada = np.zeros_like(radio) \n",
    "delta1_temperatura = np.zeros_like(radio)\n",
    "masa_calculada = np.zeros_like(radio)\n",
    "delta1_masa = np.zeros_like(radio)\n",
    "delta1_luminosidad = np.zeros_like(radio)\n",
    "delta2_luminosidad = np.zeros_like(radio)\n",
    "luminosidad_calculada = np.zeros_like(radio)\n",
    "parametro_transporte = np.zeros_like(radio)"
   ]
  },
  {
   "cell_type": "code",
   "execution_count": 138,
   "metadata": {
    "collapsed": true
   },
   "outputs": [],
   "source": [
    "#--------------------------------------- GENERACION DE ENERGIA ---------------------------------------------------------"
   ]
  },
  {
   "cell_type": "code",
   "execution_count": 139,
   "metadata": {
    "collapsed": true
   },
   "outputs": [],
   "source": [
    "def ciclo_PP(temperatura):\n",
    "    \n",
    "    if ( temperatura[i] > 0.4 and temperatura[i] < 0.6 ):\n",
    "        \n",
    "        nuPP = 6\n",
    "        epsilon1PP = 10**(-6.84)\n",
    "        \n",
    "    elif ( temperatura[i] >= 0.6 and temperatura[i] < 0.95 ):\n",
    "        \n",
    "        nuPP = 5\n",
    "        epsilon1PP = 10**(-6.04)\n",
    "        \n",
    "    elif ( temperatura[i] >= 0.95 and temperatura[i] < 1.2 ):\n",
    "        \n",
    "        nuPP = 4.5\n",
    "        epsilon1PP = 10**(-5.56)\n",
    "        \n",
    "    elif ( temperatura[i] >= 1.2 and temperatura[i] < 1.65 ):\n",
    "        \n",
    "        nuPP = 4\n",
    "        epsilon1PP = 10**(-5.02)\n",
    "        \n",
    "    elif ( temperatura[i] >= 1.65 and temperatura[i] < 2.4 ):\n",
    "        \n",
    "        nuPP = 3.5\n",
    "        epsilon1PP = 10**(-4.40)\n",
    "        \n",
    "    else :\n",
    "        \n",
    "        nuPP = 1\n",
    "        epsilon1PP = 0\n",
    "    \n",
    "    epsilon_ciclo_PP[i] = epsilon1PP*X*X*(10*temperatura[i])**nuPP\n",
    "    return nuPP, epsilon1PP"
   ]
  },
  {
   "cell_type": "code",
   "execution_count": 140,
   "metadata": {
    "collapsed": true
   },
   "outputs": [],
   "source": [
    "def ciclo_CN(temperatura):\n",
    "    \n",
    "    if ( temperatura[i] > 1.2 and temperatura[i] < 1.6 ):\n",
    "        \n",
    "        nuCN = 20\n",
    "        epsilon1CN = 10**(-22.2)\n",
    "    \n",
    "    elif ( temperatura[i] >= 1.6 and temperatura[i] < 2.25 ):\n",
    "        \n",
    "        nuCN = 18\n",
    "        epsilon1CN = 10**(-19.8)\n",
    "        \n",
    "    elif ( temperatura[i] >= 2.25 and temperatura[i] < 2.75 ):\n",
    "        \n",
    "        nuCN = 16\n",
    "        epsilon1CN = 10**(-17.1)\n",
    "        \n",
    "    elif ( temperatura[i] >= 2.75 and temperatura[i] < 3.6 ):\n",
    "        \n",
    "        nuCN = 15\n",
    "        epsilon1CN = 10**(-15.6)\n",
    "        \n",
    "    elif ( temperatura[i] >= 3.6 and temperatura[i] < 5 ):\n",
    "        \n",
    "        nuCN = 13\n",
    "        epsilon1CN = 10**(-12.5)\n",
    "        \n",
    "    else :\n",
    "        \n",
    "        nuCN = 1\n",
    "        epsilon1CN = 0\n",
    "        \n",
    "    epsilon_ciclo_CN[i] = epsilon1CN*X*(Z/3)*(10*temperatura[i])**nuCN\n",
    "    return nuCN, epsilon1CN"
   ]
  },
  {
   "cell_type": "code",
   "execution_count": 141,
   "metadata": {
    "collapsed": true
   },
   "outputs": [],
   "source": [
    "def generacion_energia(temperatura):\n",
    "    \n",
    "    nuPP, epsilon1PP = ciclo_PP(temperatura)\n",
    "    nuCN, epsilon1CN = ciclo_CN(temperatura)\n",
    "    \n",
    "    if (epsilon_ciclo_PP[i] > epsilon_ciclo_CN[i]):\n",
    "        \n",
    "        Cl = 0.01845*epsilon1PP*X*X*(10**nuPP)*(mu**2)\n",
    "        ciclo = \"PP\"\n",
    "        nu = nuPP\n",
    "        \n",
    "    elif (epsilon_ciclo_PP[i] <= epsilon_ciclo_CN[i]):\n",
    "        \n",
    "        Cl = 0.01845*epsilon1CN*X*(Z/3)*(10**nuCN)*(mu**2)\n",
    "        ciclo = \"CN\"\n",
    "        nu = nuCN\n",
    "        \n",
    "    return nu, Cl, ciclo   "
   ]
  },
  {
   "cell_type": "code",
   "execution_count": 142,
   "metadata": {
    "collapsed": true
   },
   "outputs": [],
   "source": [
    "#----------------------------------------ENVOLTURA RADIATIVA -----------------------------------------------------------"
   ]
  },
  {
   "cell_type": "code",
   "execution_count": 143,
   "metadata": {
    "collapsed": true
   },
   "outputs": [],
   "source": [
    "# En esta parte del codigo consideramos masa y luminosidad constante. Funcion valida para valores iniciales y A.1.1.\n",
    "def paso1(radio):\n",
    "    \n",
    "    temperatura[i] = A1*(1/radio[i] - 1/Rtot)\n",
    "    presion[i] = A2*temperatura[i]**4.25\n",
    "    masa[i] = Mtot\n",
    "    luminosidad[i] = Ltot\n",
    "    \n",
    "    nu, Cl, ciclo = generacion_energia(temperatura)\n",
    "    \n",
    "    gradiente_presion[i] = -Cp*(presion[i]/temperatura[i])*(masa[i]/radio[i]**2)\n",
    "    gradiente_temperatura[i] = -Ct*(presion[i]**2/temperatura[i]**8.5)*(luminosidad[i]/radio[i]**2)\n",
    "    gradiente_masa[i] = Cm*(presion[i]/temperatura[i])*radio[i]**2\n",
    "    gradiente_luminosidad[i] = Cl*presion[i]**2*temperatura[i]**(nu-2)*radio[i]**2"
   ]
  },
  {
   "cell_type": "code",
   "execution_count": 144,
   "metadata": {
    "collapsed": true
   },
   "outputs": [],
   "source": [
    "def paso2_a11(radio):\n",
    "    \n",
    "    delta1_presion[i-1] = h*gradiente_presion[i-1] - h*gradiente_presion[i-2]\n",
    "    delta2_presion[i-1] = h*gradiente_presion[i-1] - 2*h*gradiente_presion[i-2] + h*gradiente_presion[i-3]\n",
    "    presion_estimada[i] = presion[i-1] + h*gradiente_presion[i-1] + (1/2)*delta1_presion[i-1] + (5/12)*delta2_presion[i-1]\n",
    "    \n",
    "    delta1_temperatura[i-1] = h*gradiente_temperatura[i-1] - h*gradiente_temperatura[i-2]\n",
    "    temperatura_estimada[i] = temperatura[i-1] + h*gradiente_temperatura[i-1] + (1/2)*delta1_temperatura[i-1]"
   ]
  },
  {
   "cell_type": "code",
   "execution_count": 145,
   "metadata": {
    "collapsed": true
   },
   "outputs": [],
   "source": [
    "def paso4_a11(radio):\n",
    "    \n",
    "    gradiente_presion[i] = -Cp*(presion_estimada[i]/temperatura_estimada[i])*(masa[i]/radio[i]**2)\n",
    "    delta1_presion[i] = h*gradiente_presion[i] - h*gradiente_presion[i-1]\n",
    "    presion_calculada[i] = presion[i-1] + h*gradiente_presion[i] - (1/2)*delta1_presion[i]"
   ]
  },
  {
   "cell_type": "code",
   "execution_count": 146,
   "metadata": {
    "collapsed": true
   },
   "outputs": [],
   "source": [
    "def paso5_a11(radio):\n",
    "    \n",
    "    while( abs(presion_calculada[i] - presion_estimada[i])/presion_calculada[i] > Erelmax ):\n",
    "        \n",
    "        presion_estimada[i] = presion_calculada[i]\n",
    "        paso4_a11(radio)\n",
    "        \n",
    "    presion[i] = presion_calculada[i]"
   ]
  },
  {
   "cell_type": "code",
   "execution_count": 147,
   "metadata": {
    "collapsed": true
   },
   "outputs": [],
   "source": [
    "def paso7_a11(radio):\n",
    "    \n",
    "    gradiente_temperatura[i] = -Ct*(presion_calculada[i]**2/temperatura_estimada[i]**8.5)*(Ltot/radio[i]**2)\n",
    "    delta1_temperatura[i] = h*gradiente_temperatura[i] - h*gradiente_temperatura[i-1]\n",
    "    temperatura_calculada[i] = temperatura[i-1] + h*gradiente_temperatura[i] - (1/2)*delta1_temperatura[i]"
   ]
  },
  {
   "cell_type": "code",
   "execution_count": 148,
   "metadata": {
    "collapsed": true
   },
   "outputs": [],
   "source": [
    "def paso8_a11(radio):\n",
    "    \n",
    "    while( abs(temperatura_calculada[i] - temperatura_estimada[i])/temperatura_calculada[i] > Erelmax ):\n",
    "        \n",
    "        temperatura_estimada[i] = temperatura_calculada[i]\n",
    "        \n",
    "        paso4_a11(radio)\n",
    "        paso5_a11(radio)\n",
    "        paso7_a11(radio)\n",
    "        \n",
    "    temperatura[i] = temperatura_calculada[i]"
   ]
  },
  {
   "cell_type": "code",
   "execution_count": 149,
   "metadata": {
    "collapsed": true
   },
   "outputs": [],
   "source": [
    "def paso3_a11(radio):\n",
    "    \n",
    "    gradiente_masa[i] = Cm*(presion_calculada[i]/temperatura_calculada[i])*radio[i]**2\n",
    "    delta1_masa[i] = h*gradiente_masa[i] - h*gradiente_masa[i-1]\n",
    "    masa_calculada[i] = Mtot + h*gradiente_masa[i] - (1/2)*delta1_masa[i]\n",
    "    \n",
    "    masa[i] = masa_calculada[i]"
   ]
  },
  {
   "cell_type": "code",
   "execution_count": 150,
   "metadata": {
    "collapsed": true
   },
   "outputs": [],
   "source": [
    "def paso1_a12(radio):\n",
    "    \n",
    "    temperatura[i] = A1*(1/radio[i] - 1/Rtot)\n",
    "    presion[i] = A2*temperatura[i]**4.25\n",
    "    masa[i] = masa_calculada[i]\n",
    "    luminosidad[i] = Ltot\n",
    "    \n",
    "    #nu, Cl, ciclo = generacion_energia(temperatura)\n",
    "    \n",
    "    gradiente_presion[i] = -Cp*(presion[i]/temperatura[i])*(masa[i]/radio[i]**2)\n",
    "    gradiente_temperatura[i] = -Ct*(presion[i]**2/temperatura[i]**8.5)*(luminosidad[i]/radio[i]**2)\n",
    "    gradiente_masa[i] = Cm*(presion[i]/temperatura[i])*radio[i]**2\n",
    "    #gradiente_luminosidad[i] = Cl*presion[i]**2*temperatura[i]**(nu-2)*radio[i]**2"
   ]
  },
  {
   "cell_type": "code",
   "execution_count": 151,
   "metadata": {
    "collapsed": true
   },
   "outputs": [],
   "source": [
    "def paso3_a12(radio):\n",
    "    \n",
    "    gradiente_masa[i] = Cm*(presion_estimada[i]/temperatura_estimada[i])*radio[i]**2\n",
    "    delta1_masa[i] = h*gradiente_masa[i] - h*gradiente_masa[i-1]\n",
    "    masa_calculada[i] = masa[i-1] + h*gradiente_masa[i] - (1/2)*delta1_masa[i]\n",
    "    \n",
    "    masa[i] = masa_calculada[i] "
   ]
  },
  {
   "cell_type": "code",
   "execution_count": 152,
   "metadata": {
    "collapsed": true
   },
   "outputs": [],
   "source": [
    "def paso4_a12(radio):\n",
    "    \n",
    "    gradiente_presion[i] = -Cp*(presion_estimada[i]/temperatura_estimada[i])*(masa_calculada[i]/radio[i]**2)\n",
    "    delta1_presion[i] = h*gradiente_presion[i] - h*gradiente_presion[i-1]\n",
    "    presion_calculada[i] = presion[i-1] + h*gradiente_presion[i] - (1/2)*delta1_presion[i]"
   ]
  },
  {
   "cell_type": "code",
   "execution_count": 153,
   "metadata": {
    "collapsed": true
   },
   "outputs": [],
   "source": [
    "def paso5_a12(radio):\n",
    "    \n",
    "    while( abs(presion_calculada[i] - presion_estimada[i])/presion_calculada[i] > Erelmax ):\n",
    "        \n",
    "        presion_estimada[i] = presion_calculada[i]\n",
    "        paso3_a12(radio)\n",
    "        paso4_a12(radio)\n",
    "        \n",
    "    presion[i] = presion_calculada[i]"
   ]
  },
  {
   "cell_type": "code",
   "execution_count": 154,
   "metadata": {
    "collapsed": true
   },
   "outputs": [],
   "source": [
    "def paso8_a12(radio):\n",
    "    \n",
    "    while( abs(temperatura_calculada[i] - temperatura_estimada[i])/temperatura_calculada[i] > Erelmax ):\n",
    "        \n",
    "        temperatura_estimada[i] = temperatura_calculada[i]\n",
    "        \n",
    "        paso3_a12(radio)\n",
    "        paso4_a12(radio)\n",
    "        paso5_a12(radio)\n",
    "        paso7_a11(radio)\n",
    "            \n",
    "    temperatura[i] = temperatura_calculada[i] "
   ]
  },
  {
   "cell_type": "code",
   "execution_count": 155,
   "metadata": {
    "collapsed": true
   },
   "outputs": [],
   "source": [
    "def paso6_a12(radio):\n",
    "\n",
    "    nu, Cl, ciclo = generacion_energia(temperatura)\n",
    "    \n",
    "    gradiente_luminosidad[i] = Cl*(presion_calculada[i]**2)*(temperatura_calculada[i])**(nu-2)*radio[i]**2\n",
    "    delta1_luminosidad[i] = h*gradiente_luminosidad[i] - h*gradiente_luminosidad[i-1]\n",
    "    delta2_luminosidad[i] = h*gradiente_luminosidad[i] - 2*h*gradiente_luminosidad[i-1] + h*gradiente_luminosidad[i-2]\n",
    "    luminosidad_calculada[i] = Ltot + h*gradiente_luminosidad[i] - (1/2)*delta1_luminosidad[i] - (1/12)*delta2_luminosidad[i]\n",
    "    \n",
    "    luminosidad[i] = luminosidad_calculada[i]"
   ]
  },
  {
   "cell_type": "markdown",
   "metadata": {},
   "source": [
    "Funciones para el algoritmo A.1.3."
   ]
  },
  {
   "cell_type": "code",
   "execution_count": 156,
   "metadata": {
    "collapsed": true
   },
   "outputs": [],
   "source": [
    "def paso9_a13(radio):\n",
    "    \n",
    "    parametro_transporte[i] = (temperatura_calculada[i]/presion_calculada[i])*(gradiente_presion[i]/gradiente_temperatura[i])"
   ]
  },
  {
   "cell_type": "code",
   "execution_count": 157,
   "metadata": {
    "collapsed": true
   },
   "outputs": [],
   "source": [
    "def paso1_a13(radio):\n",
    "    \n",
    "    temperatura[i] = A1*(1/radio[i] - 1/Rtot)\n",
    "    presion[i] = A2*temperatura[i]**4.25\n",
    "    masa[i] = masa_calculada[i]\n",
    "    luminosidad[i] = luminosidad_calculada[i]\n",
    "    \n",
    "    nu, Cl, ciclo = generacion_energia(temperatura)\n",
    "    \n",
    "    gradiente_presion[i] = -Cp*(presion[i]/temperatura[i])*(masa[i]/radio[i]**2)\n",
    "    gradiente_temperatura[i] = -Ct*(presion[i]**2/temperatura[i]**8.5)*(luminosidad[i]/radio[i]**2)\n",
    "    gradiente_masa[i] = Cm*(presion[i]/temperatura[i])*radio[i]**2\n",
    "    gradiente_luminosidad[i] = Cl*presion[i]**2*temperatura[i]**(nu-2)*radio[i]**2"
   ]
  },
  {
   "cell_type": "code",
   "execution_count": 158,
   "metadata": {
    "collapsed": true
   },
   "outputs": [],
   "source": [
    "def paso6_a13(radio):\n",
    "    \n",
    "    temperatura[i] = temperatura_estimada[i]\n",
    "    \n",
    "    nu, Cl, ciclo = generacion_energia(temperatura)\n",
    "    \n",
    "    gradiente_luminosidad[i] = Cl*(presion_calculada[i]**2)*(temperatura_estimada[i])**(nu-2)*radio[i]**2\n",
    "    delta1_luminosidad[i] = h*gradiente_luminosidad[i] - h*gradiente_luminosidad[i-1]\n",
    "    delta2_luminosidad[i] = h*gradiente_luminosidad[i] - 2*h*gradiente_luminosidad[i-1] + h*gradiente_luminosidad[i-2]\n",
    "    luminosidad_calculada[i] = luminosidad[i-1] + h*gradiente_luminosidad[i] - (1/2)*delta1_luminosidad[i] - (1/12)*delta2_luminosidad[i]\n",
    "    \n",
    "    luminosidad[i] = luminosidad_calculada[i]"
   ]
  },
  {
   "cell_type": "code",
   "execution_count": 159,
   "metadata": {
    "collapsed": true
   },
   "outputs": [],
   "source": [
    "def paso7_a13(radio):\n",
    "    \n",
    "    gradiente_temperatura[i] = -Ct*(presion_calculada[i]**2/temperatura_estimada[i]**8.5)*(luminosidad_calculada[i]/radio[i]**2)\n",
    "    delta1_temperatura[i] = h*gradiente_temperatura[i] - h*gradiente_temperatura[i-1]\n",
    "    temperatura_calculada[i] = temperatura[i-1] + h*gradiente_temperatura[i] - (1/2)*delta1_temperatura[i]"
   ]
  },
  {
   "cell_type": "code",
   "execution_count": 160,
   "metadata": {
    "collapsed": true
   },
   "outputs": [],
   "source": [
    "def paso8_a13(radio):\n",
    "    \n",
    "    while( abs(temperatura_calculada[i] - temperatura_estimada[i])/temperatura_calculada[i] > Erelmax ):\n",
    "        \n",
    "        temperatura_estimada[i] = temperatura_calculada[i]\n",
    "        \n",
    "        paso3_a12(radio)\n",
    "        paso4_a12(radio)\n",
    "        paso5_a12(radio)\n",
    "        paso6_a13(radio)\n",
    "        paso7_a13(radio)\n",
    "        \n",
    "    temperatura[i] = temperatura_calculada[i]"
   ]
  },
  {
   "cell_type": "markdown",
   "metadata": {},
   "source": [
    "Funciones para el algoritmo A.2."
   ]
  },
  {
   "cell_type": "code",
   "execution_count": 161,
   "metadata": {
    "collapsed": true
   },
   "outputs": [],
   "source": [
    "def paso1_a2(radio):\n",
    "    \n",
    "    temperatura[i] = A3*(1/radio[i] - 1/Rtot)\n",
    "    presion[i] = k_prima*temperatura[i]**2.5\n",
    "    masa[i] = masa_calculada[i]\n",
    "    luminosidad[i] = luminosidad_calculada[i]\n",
    "    \n",
    "    nu, Cl, ciclo = generacion_energia(temperatura)\n",
    "    \n",
    "    gradiente_presion[i] = -Cp*(presion[i]/temperatura[i])*(masa[i]/radio[i]**2)\n",
    "    gradiente_temperatura[i] = -Ct*(presion[i]**2/temperatura[i]**8.5)*(luminosidad[i]/radio[i]**2)\n",
    "    gradiente_masa[i] = Cm*(presion[i]/temperatura[i])*radio[i]**2\n",
    "    gradiente_luminosidad[i] = Cl*presion[i]**2*temperatura[i]**(nu-2)*radio[i]**2\n",
    "    \n",
    "    "
   ]
  },
  {
   "cell_type": "code",
   "execution_count": 162,
   "metadata": {
    "collapsed": true
   },
   "outputs": [],
   "source": [
    "def paso2_a2(radio):\n",
    "    \n",
    "    delta1_temperatura[i-1] = h*gradiente_temperatura[i-1] - h*gradiente_temperatura[i-2]\n",
    "    temperatura_estimada[i] = temperatura[i-1] + h*gradiente_temperatura[i-1] + (1/2)*delta1_temperatura[i-1]\n",
    "    \n",
    "    presion_estimada[i] = k_prima*(temperatura_estimada[i]**2.5)"
   ]
  },
  {
   "cell_type": "code",
   "execution_count": 163,
   "metadata": {
    "collapsed": true
   },
   "outputs": [],
   "source": [
    "def paso7_a2(radio):\n",
    "    \n",
    "    if(radio[i] == 0):\n",
    "        \n",
    "        temperatura_calculada[i] = temperatura_estimada[i]\n",
    "        presion_calculada[i] = presion_estimada[i]\n",
    "        \n",
    "    else:\n",
    "        \n",
    "        gradiente_temperatura[i] = -Ct_prima*(masa_calculada[i]/radio[i]**2)\n",
    "        delta1_temperatura[i] = h*gradiente_temperatura[i] - h*gradiente_temperatura[i-1]\n",
    "        temperatura_calculada[i] = temperatura[i-1] + h*gradiente_temperatura[i] - (1/2)*delta1_temperatura[i]"
   ]
  },
  {
   "cell_type": "code",
   "execution_count": 164,
   "metadata": {
    "collapsed": true
   },
   "outputs": [],
   "source": [
    "def paso8_a2(radio):\n",
    "    \n",
    "    while( abs(temperatura_calculada[i] - temperatura_estimada[i])/temperatura_calculada[i] > Erelmax ):\n",
    "        \n",
    "        temperatura_estimada[i] = temperatura_calculada[i]\n",
    "        \n",
    "        presion_estimada[i] = k_prima*(temperatura_estimada[i]**2.5)\n",
    "        paso3_a12(radio)\n",
    "        paso7_a2(radio)\n",
    "    \n",
    "    temperatura[i] = temperatura_calculada[i]\n",
    "    presion_calculada[i] = k_prima*(temperatura_calculada[i]**2.5)\n",
    "    presion[i] = presion_calculada[i]"
   ]
  },
  {
   "cell_type": "code",
   "execution_count": 165,
   "metadata": {
    "collapsed": true
   },
   "outputs": [],
   "source": [
    "def paso6_a2(radio):\n",
    "    \n",
    "    nu, Cl, ciclo = generacion_energia(temperatura)\n",
    "    \n",
    "    gradiente_luminosidad[i] = Cl*(presion_calculada[i]**2)*(temperatura_calculada[i]**(nu-2))*radio[i]**2\n",
    "    delta1_luminosidad[i] = h*gradiente_luminosidad[i] - h*gradiente_luminosidad[i-1]\n",
    "    delta2_luminosidad[i] = h*gradiente_luminosidad[i] - 2*h*gradiente_luminosidad[i-1] + h*gradiente_luminosidad[i-2]\n",
    "    luminosidad_calculada[i] = luminosidad[i-1] + h*gradiente_luminosidad[i] - (1/2)*delta1_luminosidad[i] - (1/12)*delta2_luminosidad[i]\n",
    "    \n",
    "    luminosidad[i] = luminosidad_calculada[i]"
   ]
  },
  {
   "cell_type": "markdown",
   "metadata": {},
   "source": [
    "# EJECUCION DEL CODIGO"
   ]
  },
  {
   "cell_type": "code",
   "execution_count": 166,
   "metadata": {},
   "outputs": [],
   "source": [
    "#INTEGRACION DESDE LA SUPERFICIE\n",
    "\n",
    "#print(\"E\", \"fase\", \"i\", \"radio\", \"presion\", \"temperatura\", \"luminosidad\", \"masa\")\n",
    "\n",
    "i = 0\n",
    "\n",
    "while (i <=2 ):\n",
    "    \n",
    "    paso1(radio)\n",
    "    #print(\"--\", \"INICIO\", i, \"%.7f\" % radio[i], \"%.7f\" % presion[i],\"%.7f\" % temperatura[i], \"%.6f\" % luminosidad[i], \"%.6f\" % masa[i] )\n",
    "    \n",
    "    i = i + 1\n",
    "    \n",
    "for r in radio[2:len(radio)]:\n",
    "    \n",
    "#Algoritmo A.1.1. Masa y Luminosidad constantes\n",
    "\n",
    "    paso1(radio)\n",
    "    paso2_a11(radio)\n",
    "    paso4_a11(radio)\n",
    "    paso5_a11(radio)\n",
    "    paso7_a11(radio)\n",
    "    paso8_a11(radio)\n",
    "    paso3_a11(radio)\n",
    "    \n",
    "    while( abs(masa[i] - Mtot)/Mtot < Erelmax and abs( luminosidad[i] - Ltot)/Ltot < Erelmax ):\n",
    "        \n",
    "        paso1(radio)\n",
    "        paso2_a11(radio)\n",
    "        paso4_a11(radio)\n",
    "        paso5_a11(radio)\n",
    "        paso7_a11(radio)\n",
    "        paso8_a11(radio)\n",
    "        paso3_a11(radio)\n",
    "    \n",
    "        #print(\"--\", \"A.1.1.\", i, \"%.7f\" % radio[i], \"%.7f\" % presion[i],\"%.7f\" % temperatura[i], \"%.6f\" % luminosidad[i], \"%.6f\" % Mtot )\n",
    "    \n",
    "        i = i + 1 "
   ]
  },
  {
   "cell_type": "code",
   "execution_count": 167,
   "metadata": {},
   "outputs": [
    {
     "name": "stderr",
     "output_type": "stream",
     "text": [
      "C:\\Users\\david\\Anaconda3\\lib\\site-packages\\ipykernel_launcher.py:3: RuntimeWarning: invalid value encountered in double_scalars\n",
      "  This is separate from the ipykernel package so we can avoid doing imports until\n"
     ]
    }
   ],
   "source": [
    "#Algoritmo A.1.2. Masa variable y Luminosidad constante\n",
    "\n",
    "for r in radio[i:len(radio)]:\n",
    "    \n",
    "    paso1_a12(radio)\n",
    "    paso2_a11(radio)\n",
    "    paso3_a12(radio)\n",
    "    paso4_a12(radio)\n",
    "    paso5_a12(radio)\n",
    "    paso7_a11(radio)    \n",
    "    paso8_a12(radio)\n",
    "    paso6_a12(radio)\n",
    "        \n",
    "    while( abs(masa[i] - Mtot)/Mtot > Erelmax and abs( luminosidad[i] - Ltot)/Ltot < Erelmax ):\n",
    "        \n",
    "        paso1_a12(radio)\n",
    "        paso2_a11(radio)\n",
    "        paso3_a12(radio)\n",
    "        paso4_a12(radio)\n",
    "        paso5_a12(radio)\n",
    "        paso7_a11(radio)\n",
    "        paso8_a12(radio)\n",
    "        paso6_a12(radio)\n",
    "    \n",
    "        #print(\"--\", \"A.1.2.\", i, \"%.7f\" % radio[i], \"%.7f\" % presion[i],\"%.7f\" % temperatura[i], \"%.6f\" % Ltot, \"%.6f\" % masa[i] )\n",
    "        \n",
    "        i = i + 1\n",
    "        \n",
    "#Algoritmo A.1.3. Masa y luminosidad variables\n",
    "        \n",
    "    paso9_a13(radio)\n",
    "    \n",
    "    while( parametro_transporte[i] > 2.5 ):\n",
    "        \n",
    "        paso1_a13(radio)\n",
    "        paso2_a11(radio)\n",
    "        paso3_a12(radio)\n",
    "        paso4_a12(radio)\n",
    "        paso5_a12(radio)\n",
    "        #print(temperatura[i], temperatura_estimada[i], temperatura_calculada[i])\n",
    "        paso6_a13(radio)\n",
    "        nu, Cl, ciclo = generacion_energia(temperatura)\n",
    "        #print(temperatura[i],nu, Cl, ciclo)\n",
    "        paso7_a13(radio)\n",
    "        paso8_a13(radio)\n",
    "        paso9_a13(radio)\n",
    "        \n",
    "        #print(ciclo, \"A.1.3.\", i, \"%.7f\" % radio[i], \"%.7f\" % presion[i],\"%.7f\" % temperatura[i], \"%.6f\" % luminosidad[i], \"%.6f\" % masa[i], \"%.6f\" % parametro_transporte[i] )\n",
    "        \n",
    "        i = i + 1"
   ]
  },
  {
   "cell_type": "code",
   "execution_count": 168,
   "metadata": {},
   "outputs": [],
   "source": [
    "#Algoritmo A.2. Nucleo Convectivo\n",
    "    \n",
    "k_prima = presion_calculada[i]/temperatura_calculada[i]**2.5\n",
    "\n",
    "if( parametro_transporte[i] <= 2.5 and abs( masa[i] - Mtot)/Mtot > Erelmax and abs( luminosidad[i] - Ltot)/Ltot > Erelmax ):\n",
    "        \n",
    "    while( radio[i] >= 0 and i < 96):\n",
    "#Paramos en la capa 99 para que no de error     \n",
    "        paso1_a2(radio)\n",
    "        paso2_a2(radio)\n",
    "        paso3_a12(radio)\n",
    "        paso7_a2(radio)\n",
    "        paso8_a2(radio)\n",
    "        paso6_a2(radio)\n",
    "        \n",
    "        nu, Cl, ciclo = generacion_energia(temperatura)\n",
    "            \n",
    "        #print(ciclo, \"CONVEC\", i, \"%.7f\" % radio[i], \"%.7f\" % presion[i],\"%.7f\" % temperatura[i], \"%.6f\" % luminosidad[i], \"%.6f\" % masa[i], \"%.6f\" % parametro_transporte[i] )\n",
    "        \n",
    "        i = i + 1"
   ]
  },
  {
   "cell_type": "markdown",
   "metadata": {},
   "source": [
    "Deseamos conocer en que capa se produce la transicion radiación -> convección.\n",
    "\n",
    "Indice de transicion en integracion up-down ----> ind_tr[0]"
   ]
  },
  {
   "cell_type": "code",
   "execution_count": 169,
   "metadata": {},
   "outputs": [],
   "source": [
    "for x in parametro_transporte:\n",
    "    \n",
    "    if x != 0 and x < 2.5:\n",
    "        \n",
    "        ind_tr = np.where(parametro_transporte == x)[0]\n",
    "        #print(ind_tr)"
   ]
  },
  {
   "cell_type": "code",
   "execution_count": 170,
   "metadata": {},
   "outputs": [
    {
     "data": {
      "text/plain": [
       "77"
      ]
     },
     "execution_count": 170,
     "metadata": {},
     "output_type": "execute_result"
    }
   ],
   "source": [
    "ind_tr[0] - 1"
   ]
  },
  {
   "cell_type": "markdown",
   "metadata": {},
   "source": [
    "Valores en la frontera (desde arriba)"
   ]
  },
  {
   "cell_type": "code",
   "execution_count": 171,
   "metadata": {
    "collapsed": true
   },
   "outputs": [],
   "source": [
    "def valoresfrontera_down(parametro_transporte, radio, presion, temperatura, luminosidad, masa):\n",
    "    \n",
    "    radio_transicion_down = np.interp(2.5, [parametro_transporte[ind_tr[0]-1],parametro_transporte[ind_tr[0]]],[radio[ind_tr[0]-1], radio[ind_tr[0]]])\n",
    "    presion_transicion_down = np.interp(radio_transicion_down, [radio[ind_tr[0]-1],radio[ind_tr[0]]], [presion[ind_tr[0]-1], presion[ind_tr[0]]])\n",
    "    temperatura_transicion_down = np.interp(radio_transicion_down, [radio[ind_tr[0]-1], radio[ind_tr[0]]], [temperatura[ind_tr[0]-1], temperatura[ind_tr[0]]])\n",
    "    luminosidad_transicion_down = np.interp(radio_transicion_down, [radio[ind_tr[0]-1], radio[ind_tr[0]]], [luminosidad[ind_tr[0]-1], luminosidad[ind_tr[0]]])\n",
    "    masa_transicion_down = np.interp(radio_transicion_down, [radio[ind_tr[0]-1], radio[ind_tr[0]]], [masa[ind_tr[0]-1], masa[ind_tr[0]]])\n",
    "    \n",
    "    return radio_transicion_down, presion_transicion_down, temperatura_transicion_down, luminosidad_transicion_down, masa_transicion_down\n",
    "    \n",
    "    #print(radio_transicion_down)"
   ]
  },
  {
   "cell_type": "code",
   "execution_count": 172,
   "metadata": {},
   "outputs": [],
   "source": [
    "valores_down = valoresfrontera_down(parametro_transporte, radio, presion, temperatura, luminosidad, masa)\n",
    "#print(\"transicion_down\",\"%.2f\" % valores_down[0],\"%.2f\" %  valores_down[1],\"%.2f\" %  valores_down[2],\"%.2f\" %  valores_down[3],\"%.2f\" %  valores_down[4])\n",
    "radio_transicion_down = valores_down[0]\n",
    "#print(radio_transicion_down)"
   ]
  },
  {
   "cell_type": "markdown",
   "metadata": {},
   "source": [
    "Guardamos los resultados obtenidos en la integracion desde la superficie"
   ]
  },
  {
   "cell_type": "code",
   "execution_count": 173,
   "metadata": {
    "collapsed": true
   },
   "outputs": [],
   "source": [
    "temperatura_down = np.zeros_like(radio)\n",
    "presion_down = np.zeros_like(radio)\n",
    "masa_down = np.zeros_like(radio)\n",
    "luminosidad_down = np.zeros_like(radio)\n",
    "radio_down = np.zeros_like(radio)\n",
    "\n",
    "#------------------------------------------------------------------------------------------------------------\n",
    "\n",
    "temperatura_down = temperatura\n",
    "presion_down = presion\n",
    "masa_down = masa\n",
    "luminosidad_down = luminosidad\n",
    "radio_down = radio"
   ]
  },
  {
   "cell_type": "markdown",
   "metadata": {},
   "source": [
    "# INTEGRACION DESDE EL CENTRO##"
   ]
  },
  {
   "cell_type": "markdown",
   "metadata": {},
   "source": [
    "Invertimos el radio, redefinimos el paso de integracion (positivo) y reiniciamos los arrays con los que trabajamos"
   ]
  },
  {
   "cell_type": "code",
   "execution_count": 174,
   "metadata": {
    "collapsed": true
   },
   "outputs": [],
   "source": [
    "radio = radio[::-1]\n",
    "radio\n",
    "#------------------------------------------------------------------------------------------------------------\n",
    "h = Rini/100\n",
    "#--------------------------------------------------------------------------------------------------------------\n",
    "temperatura = np.zeros_like(radio)\n",
    "presion = np.zeros_like(radio)\n",
    "masa = np.zeros_like(radio)\n",
    "luminosidad = np.zeros_like(radio)\n",
    "gradiente_presion = np.zeros_like(radio)\n",
    "gradiente_temperatura = np.zeros_like(radio)\n",
    "gradiente_masa = np.zeros_like(radio)\n",
    "gradiente_luminosidad = np.zeros_like(radio)\n",
    "epsilon_ciclo_PP = np.zeros_like(radio)\n",
    "epsilon_ciclo_CN = np.zeros_like(radio)\n",
    "presion_estimada = np.zeros_like(radio)\n",
    "delta1_presion = np.zeros_like(radio)\n",
    "delta2_presion = np.zeros_like(radio)\n",
    "temperatura_estimada = np.zeros_like(radio)\n",
    "delta1_temperatura = np.zeros_like(radio)\n",
    "presion_calculada = np.zeros_like(radio)\n",
    "temperatura_calculada = np.zeros_like(radio) \n",
    "delta1_temperatura = np.zeros_like(radio)\n",
    "masa_calculada = np.zeros_like(radio)\n",
    "delta1_masa = np.zeros_like(radio)\n",
    "delta1_luminosidad = np.zeros_like(radio)\n",
    "delta2_luminosidad = np.zeros_like(radio)\n",
    "luminosidad_calculada = np.zeros_like(radio)\n",
    "parametro_transporte = np.zeros_like(radio)\n",
    "#---------------------------------------------------------------------------------------------------------------"
   ]
  },
  {
   "cell_type": "code",
   "execution_count": 175,
   "metadata": {},
   "outputs": [
    {
     "data": {
      "text/plain": [
       "array([ 0.     ,  0.09882,  0.19764,  0.29646,  0.39528,  0.4941 ,\n",
       "        0.59292,  0.69174,  0.79056,  0.88938,  0.9882 ,  1.08702,\n",
       "        1.18584,  1.28466,  1.38348,  1.4823 ,  1.58112,  1.67994,\n",
       "        1.77876,  1.87758,  1.9764 ,  2.07522,  2.17404,  2.27286,\n",
       "        2.37168,  2.4705 ,  2.56932,  2.66814,  2.76696,  2.86578,\n",
       "        2.9646 ,  3.06342,  3.16224,  3.26106,  3.35988,  3.4587 ,\n",
       "        3.55752,  3.65634,  3.75516,  3.85398,  3.9528 ,  4.05162,\n",
       "        4.15044,  4.24926,  4.34808,  4.4469 ,  4.54572,  4.64454,\n",
       "        4.74336,  4.84218,  4.941  ,  5.03982,  5.13864,  5.23746,\n",
       "        5.33628,  5.4351 ,  5.53392,  5.63274,  5.73156,  5.83038,\n",
       "        5.9292 ,  6.02802,  6.12684,  6.22566,  6.32448,  6.4233 ,\n",
       "        6.52212,  6.62094,  6.71976,  6.81858,  6.9174 ,  7.01622,\n",
       "        7.11504,  7.21386,  7.31268,  7.4115 ,  7.51032,  7.60914,\n",
       "        7.70796,  7.80678,  7.9056 ,  8.00442,  8.10324,  8.20206,\n",
       "        8.30088,  8.3997 ,  8.49852,  8.59734,  8.69616,  8.79498,\n",
       "        8.8938 ,  8.99262,  9.09144,  9.19026,  9.28908,  9.3879 ,\n",
       "        9.48672,  9.58554,  9.68436,  9.78318,  9.882  ])"
      ]
     },
     "execution_count": 175,
     "metadata": {},
     "output_type": "execute_result"
    }
   ],
   "source": [
    "radio"
   ]
  },
  {
   "cell_type": "markdown",
   "metadata": {},
   "source": [
    "Condiciones iniciales"
   ]
  },
  {
   "cell_type": "code",
   "execution_count": 176,
   "metadata": {
    "collapsed": true
   },
   "outputs": [],
   "source": [
    "Mcentral = 0\n",
    "Lcentral = 0\n",
    "Tcentral = 2 #ponemos la que se nos da, podria ponerse la ultima temperatura de la integracion desde la superfici"
   ]
  },
  {
   "cell_type": "markdown",
   "metadata": {},
   "source": [
    "Funciones para el algoritmo B"
   ]
  },
  {
   "cell_type": "code",
   "execution_count": 177,
   "metadata": {
    "collapsed": true
   },
   "outputs": [],
   "source": [
    "def paso1_b(radio):\n",
    "    \n",
    "    masa[i] = (Cm/3)*k_prima*Tcentral**1.5*radio[i]**3\n",
    "    temperatura[i] = Tcentral - 0.008207*(mu**2)*(k_prima)*(Tcentral**1.5)*radio[i]**2\n",
    "    nu, Cl, ciclo = generacion_energia(temperatura)\n",
    "    #print(nu, Cl, ciclo)\n",
    "    luminosidad[i] = (Cl/3)*k_prima**2*(Tcentral**(3+nu))*radio[i]**3\n",
    "    presion[i] = k_prima*temperatura[i]**2.5\n",
    "    \n",
    "    gradiente_masa[i] = Cm*k_prima*temperatura[i]**1.5*radio[i]**2\n",
    "    #gradiente_presion[i] = -Cp*k_prima*temperatura[i]**1.5*(masa[i]/radio[i]**2)\n",
    "    gradiente_luminosidad[i] = Cl*(k_prima**2)*(temperatura[i]**(3+nu))*radio[i]**2\n",
    "    gradiente_temperatura[i] = -Ct_prima*(masa[i]/radio[i]**2)"
   ]
  },
  {
   "cell_type": "markdown",
   "metadata": {},
   "source": [
    "# EJECUCION DEL CODIGO"
   ]
  },
  {
   "cell_type": "code",
   "execution_count": 178,
   "metadata": {},
   "outputs": [
    {
     "name": "stderr",
     "output_type": "stream",
     "text": [
      "C:\\Users\\david\\Anaconda3\\lib\\site-packages\\ipykernel_launcher.py:13: RuntimeWarning: invalid value encountered in double_scalars\n",
      "  del sys.path[0]\n"
     ]
    }
   ],
   "source": [
    "#INTEGRACION DESDE EL CENTRO\n",
    "\n",
    "#print(\"E\", \"fase\", \"i\", \"radio\", \"presion\", \"temperatura\", \"luminosidad\", \"masa\")\n",
    "\n",
    "i = 0\n",
    "\n",
    "while (i <=2 ):\n",
    "    \n",
    "    paso1_b(radio)\n",
    "    nu, Cl, ciclo = generacion_energia(temperatura)\n",
    "    \n",
    "    #print(\"--\", \"CONVEC\", i, \"%.7f\" % radio[i], \"%.7f\" % presion[i],\"%.7f\" % temperatura[i], \"%.6f\" % luminosidad[i], \"%.6f\" % masa[i] )\n",
    "    \n",
    "    i = i + 1"
   ]
  },
  {
   "cell_type": "code",
   "execution_count": 179,
   "metadata": {},
   "outputs": [],
   "source": [
    "for r in radio[i:len(radio)]:\n",
    "    \n",
    "    while(radio[i] <= radio_transicion_down):\n",
    "        \n",
    "        paso1_b(radio)\n",
    "        paso2_a2(radio)\n",
    "        paso3_a12(radio)\n",
    "        paso7_a2(radio)\n",
    "        paso8_a2(radio)\n",
    "        paso6_a2(radio)\n",
    "            \n",
    "        nu, Cl, ciclo = generacion_energia(temperatura)\n",
    "        \n",
    "        #print(ciclo, \"CONVEC\", i, \"%.7f\" % radio[i], \"%.7f\" % presion[i],\"%.7f\" % temperatura[i], \"%.6f\" % luminosidad[i], \"%.6f\" % masa[i] )\n",
    "    \n",
    "        i = i + 1\n",
    "        \n",
    "        "
   ]
  },
  {
   "cell_type": "markdown",
   "metadata": {},
   "source": [
    "Queremos conocer el indice de la capa en la cual se produce la transicion conveccion -> radiacion. Utilizamos la longitud del array de temperatura de forma indiferente, cualquier array hubiera sido utilizado ya que solo queremos conocer su longitud que es igual para todos los parametros.\n",
    "\n",
    "Indice de transicion en integracion down-up ---> ind_trans[0]"
   ]
  },
  {
   "cell_type": "code",
   "execution_count": 180,
   "metadata": {},
   "outputs": [],
   "source": [
    "ind_trans = len(temperatura) - ind_tr - 1\n",
    "#print(ind_trans[0])"
   ]
  },
  {
   "cell_type": "markdown",
   "metadata": {},
   "source": [
    "Valores en la frontera(desde el centro)"
   ]
  },
  {
   "cell_type": "code",
   "execution_count": 181,
   "metadata": {
    "collapsed": true
   },
   "outputs": [],
   "source": [
    "def valoresfrontera_up(radio, presion, temperatura, luminosidad, masa):\n",
    "    \n",
    "    presion_transicion_up = np.interp(radio_transicion_down, [radio[ind_trans[0]-1],radio[ind_trans[0]]], [presion[ind_trans[0]-1], presion[ind_trans[0]]])\n",
    "    temperatura_transicion_up = np.interp(radio_transicion_down, [radio[ind_trans[0]-1], radio[ind_trans[0]]], [temperatura[ind_trans[0]-1], temperatura[ind_trans[0]]])\n",
    "    luminosidad_transicion_up = np.interp(radio_transicion_down, [radio[ind_trans[0]-1], radio[ind_trans[0]]], [luminosidad[ind_trans[0]-1], luminosidad[ind_trans[0]]])\n",
    "    masa_transicion_up = np.interp(radio_transicion_down, [radio[ind_trans[0]-1], radio[ind_trans[0]]], [masa[ind_trans[0]-1], masa[ind_trans[0]]])\n",
    "    \n",
    "    return presion_transicion_up, temperatura_transicion_up, luminosidad_transicion_up, masa_transicion_up"
   ]
  },
  {
   "cell_type": "code",
   "execution_count": 182,
   "metadata": {},
   "outputs": [],
   "source": [
    "valores_up = valoresfrontera_up(radio, presion, temperatura, luminosidad, masa)\n",
    "#print(\"transicion_up\",\"%.2f\" % radio_transicion_down ,\"%.2f\" % valores_up[0],\"%.2f\" %  valores_up[1],\"%.2f\" %  valores_up[2],\"%.2f\" %  valores_up[3])"
   ]
  },
  {
   "cell_type": "markdown",
   "metadata": {},
   "source": [
    "Guardamos los resultados obtenidos en la integracion desde el centro"
   ]
  },
  {
   "cell_type": "code",
   "execution_count": 183,
   "metadata": {
    "collapsed": true
   },
   "outputs": [],
   "source": [
    "temperatura_up = np.zeros_like(radio)\n",
    "presion_up = np.zeros_like(radio)\n",
    "masa_up = np.zeros_like(radio)\n",
    "luminosidad_up = np.zeros_like(radio)\n",
    "radio_up = np.zeros_like(radio)\n",
    "\n",
    "#------------------------------------------------------------------------------------------------------------\n",
    "\n",
    "temperatura_up = temperatura\n",
    "presion_up = presion\n",
    "masa_up = masa\n",
    "luminosidad_up = luminosidad\n",
    "radio_up = radio"
   ]
  },
  {
   "cell_type": "markdown",
   "metadata": {},
   "source": [
    "# AJUSTE DE LAS SOLUCIONES A UN RADIO INTERMEDIO"
   ]
  },
  {
   "cell_type": "code",
   "execution_count": 184,
   "metadata": {},
   "outputs": [],
   "source": [
    "valores_up = valoresfrontera_up(radio, presion, temperatura, luminosidad, masa)\n",
    "#print(\"transicion_down\",\"%.4f\" % valores_down[0],\"%.4f\" %  valores_down[1],\"%.4f\" %  valores_down[2],\"%.4f\" %  valores_down[3],\"%.4f\" %  valores_down[4])\n",
    "#print(\"transicion_up\",\"%.4f\" % radio_transicion_down ,\"%.4f\" % valores_up[0],\"%.4f\" %  valores_up[1],\"%.4f\" %  valores_up[2],\"%.4f\" %  valores_up[3])\n",
    "\n",
    "radio_transicion_down, presion_transicion_down, temperatura_transicion_down, luminosidad_transicion_down, masa_transicion_down = valores_down\n",
    "presion_transicion_up, temperatura_transicion_up, luminosidad_transicion_up, masa_transicion_up = valores_up\n",
    "\n",
    "Err_rel_presion = abs(presion_transicion_down - presion_transicion_up)/presion_transicion_down*100\n",
    "Err_rel_temperatura = abs( temperatura_transicion_down - temperatura_transicion_up)/temperatura_transicion_down*100\n",
    "Err_rel_luminosidad = abs( luminosidad_transicion_down - luminosidad_transicion_up)/luminosidad_transicion_down*100\n",
    "Err_rel_masa = abs(masa_transicion_down - masa_transicion_up)/masa_transicion_up*100\n",
    "\n",
    "Err_rel_total = (Err_rel_presion**2 + Err_rel_temperatura**2 + Err_rel_luminosidad**2 + Err_rel_masa**2)**0.5\n",
    "\n",
    "#print(\"Err.relat(%) -->\",\"%.2f\" % Err_rel_presion,\"%.2f\" % Err_rel_temperatura,\"%.2f\" % Err_rel_luminosidad,\"%.2f\" % Err_rel_masa,\"%.2f\" % Err_rel_total)\n"
   ]
  },
  {
   "cell_type": "markdown",
   "metadata": {},
   "source": [
    "## CÁLCULO DE LA TEMPERATURA CENTRAL QUE MINIMIZA EL ERROR RELATIVO TOTAL"
   ]
  },
  {
   "cell_type": "code",
   "execution_count": 185,
   "metadata": {},
   "outputs": [
    {
     "name": "stderr",
     "output_type": "stream",
     "text": [
      "C:\\Users\\david\\Anaconda3\\lib\\site-packages\\ipykernel_launcher.py:13: RuntimeWarning: invalid value encountered in double_scalars\n",
      "  del sys.path[0]\n"
     ]
    },
    {
     "name": "stdout",
     "output_type": "stream",
     "text": [
      "La temperatura central optima es 1.760\n",
      "y se minimiza el error hasta el 0.257 por ciento\n"
     ]
    }
   ],
   "source": [
    "temps = np.arange(1,2.5,0.001)\n",
    "#Error_total = np.zeros(len(temps))\n",
    "Error_total = []\n",
    "\n",
    "for Tcentral in temps:\n",
    "    \n",
    "    l = 0\n",
    "    i = 0\n",
    "    \n",
    "    #print(Tcentral)\n",
    "    \n",
    "    while (i <=2 ):\n",
    "    \n",
    "        paso1_b(radio)\n",
    "        nu, Cl, ciclo = generacion_energia(temperatura)\n",
    "    \n",
    "        #print(\"--\", \"CONVEC\", i, \"%.7f\" % radio[i], \"%.7f\" % presion[i],\"%.7f\" % temperatura[i], \"%.6f\" % luminosidad[i], \"%.6f\" % masa[i] )\n",
    "    \n",
    "        i = i + 1\n",
    "        \n",
    "    for r in radio[i:len(radio)]:\n",
    "    \n",
    "        while(radio[i] <= radio_transicion_down):\n",
    "        \n",
    "            paso1_b(radio)\n",
    "            paso2_a2(radio)\n",
    "            paso3_a12(radio)\n",
    "            paso7_a2(radio)\n",
    "            paso8_a2(radio)\n",
    "            paso6_a2(radio)\n",
    "            \n",
    "            nu, Cl, ciclo = generacion_energia(temperatura)\n",
    "        \n",
    "            #print(ciclo, \"CONVEC\", i, \"%.7f\" % radio[i], \"%.7f\" % presion[i],\"%.7f\" % temperatura[i], \"%.6f\" % luminosidad[i], \"%.6f\" % masa[i] )\n",
    "    \n",
    "            i = i + 1\n",
    "    \n",
    "    ind_trans = len(temperatura) - ind_tr - 1\n",
    "    \n",
    "    temperatura_up = np.zeros_like(radio)\n",
    "    presion_up = np.zeros_like(radio)\n",
    "    masa_up = np.zeros_like(radio)\n",
    "    luminosidad_up = np.zeros_like(radio)\n",
    "    radio_up = np.zeros_like(radio)\n",
    "\n",
    "#------------------------------------------------------------------------------------------------------------\n",
    "\n",
    "    temperatura_up = temperatura\n",
    "    presion_up = presion\n",
    "    masa_up = masa\n",
    "    luminosidad_up = luminosidad\n",
    "    radio_up = radio\n",
    "    \n",
    "    valores_up = valoresfrontera_up(radio, presion, temperatura, luminosidad, masa)\n",
    "\n",
    "    radio_transicion_down, presion_transicion_down, temperatura_transicion_down, luminosidad_transicion_down, masa_transicion_down = valores_down\n",
    "    presion_transicion_up, temperatura_transicion_up, luminosidad_transicion_up, masa_transicion_up = valores_up\n",
    "\n",
    "    Err_rel_presion = abs(presion_transicion_down - presion_transicion_up)/presion_transicion_down*100\n",
    "    Err_rel_temperatura = abs( temperatura_transicion_down - temperatura_transicion_up)/temperatura_transicion_down*100\n",
    "    Err_rel_luminosidad = abs( luminosidad_transicion_down - luminosidad_transicion_up)/luminosidad_transicion_down*100\n",
    "    Err_rel_masa = abs(masa_transicion_down - masa_transicion_up)/masa_transicion_up*100\n",
    "\n",
    "    Err_rel_total = (Err_rel_presion**2 + Err_rel_temperatura**2 + Err_rel_luminosidad**2 + Err_rel_masa**2)**0.5\n",
    "    \n",
    "    Error_total.append(Err_rel_total)\n",
    "    \n",
    "    #print(Tcentral, Err_rel_total)\n",
    "    \n",
    "    l = l + 1\n",
    "    \n",
    "t_opt = temps[Error_total.index(min(Error_total))]\n",
    "error_opt = min(Error_total)\n",
    "print(\"La temperatura central optima es %.3f\" % t_opt)\n",
    "print(\"y se minimiza el error hasta el %.3f por ciento\" % error_opt)"
   ]
  },
  {
   "cell_type": "markdown",
   "metadata": {},
   "source": [
    "Ahora calculamos los parametros requeridos de temperatura, presion, luminosidad y masa en cada capa de la estrella cuya TEMPERATURA CENTRAL hemos encontrado que minimiza el error relativo total"
   ]
  },
  {
   "cell_type": "code",
   "execution_count": 186,
   "metadata": {
    "collapsed": true
   },
   "outputs": [],
   "source": [
    "#radio = radio[::-1]\n",
    "#radio\n",
    "#------------------------------------------------------------------------------------------------------------\n",
    "h = Rini/100\n",
    "#--------------------------------------------------------------------------------------------------------------\n",
    "temperatura = np.zeros_like(radio)\n",
    "presion = np.zeros_like(radio)\n",
    "masa = np.zeros_like(radio)\n",
    "luminosidad = np.zeros_like(radio)\n",
    "gradiente_presion = np.zeros_like(radio)\n",
    "gradiente_temperatura = np.zeros_like(radio)\n",
    "gradiente_masa = np.zeros_like(radio)\n",
    "gradiente_luminosidad = np.zeros_like(radio)\n",
    "epsilon_ciclo_PP = np.zeros_like(radio)\n",
    "epsilon_ciclo_CN = np.zeros_like(radio)\n",
    "presion_estimada = np.zeros_like(radio)\n",
    "delta1_presion = np.zeros_like(radio)\n",
    "delta2_presion = np.zeros_like(radio)\n",
    "temperatura_estimada = np.zeros_like(radio)\n",
    "delta1_temperatura = np.zeros_like(radio)\n",
    "presion_calculada = np.zeros_like(radio)\n",
    "temperatura_calculada = np.zeros_like(radio) \n",
    "delta1_temperatura = np.zeros_like(radio)\n",
    "masa_calculada = np.zeros_like(radio)\n",
    "delta1_masa = np.zeros_like(radio)\n",
    "delta1_luminosidad = np.zeros_like(radio)\n",
    "delta2_luminosidad = np.zeros_like(radio)\n",
    "luminosidad_calculada = np.zeros_like(radio)\n",
    "parametro_transporte = np.zeros_like(radio)\n",
    "#---------------------------------------------------------------------------------------------------------------"
   ]
  },
  {
   "cell_type": "code",
   "execution_count": 187,
   "metadata": {},
   "outputs": [
    {
     "data": {
      "text/plain": [
       "array([ 0.     ,  0.09882,  0.19764,  0.29646,  0.39528,  0.4941 ,\n",
       "        0.59292,  0.69174,  0.79056,  0.88938,  0.9882 ,  1.08702,\n",
       "        1.18584,  1.28466,  1.38348,  1.4823 ,  1.58112,  1.67994,\n",
       "        1.77876,  1.87758,  1.9764 ,  2.07522,  2.17404,  2.27286,\n",
       "        2.37168,  2.4705 ,  2.56932,  2.66814,  2.76696,  2.86578,\n",
       "        2.9646 ,  3.06342,  3.16224,  3.26106,  3.35988,  3.4587 ,\n",
       "        3.55752,  3.65634,  3.75516,  3.85398,  3.9528 ,  4.05162,\n",
       "        4.15044,  4.24926,  4.34808,  4.4469 ,  4.54572,  4.64454,\n",
       "        4.74336,  4.84218,  4.941  ,  5.03982,  5.13864,  5.23746,\n",
       "        5.33628,  5.4351 ,  5.53392,  5.63274,  5.73156,  5.83038,\n",
       "        5.9292 ,  6.02802,  6.12684,  6.22566,  6.32448,  6.4233 ,\n",
       "        6.52212,  6.62094,  6.71976,  6.81858,  6.9174 ,  7.01622,\n",
       "        7.11504,  7.21386,  7.31268,  7.4115 ,  7.51032,  7.60914,\n",
       "        7.70796,  7.80678,  7.9056 ,  8.00442,  8.10324,  8.20206,\n",
       "        8.30088,  8.3997 ,  8.49852,  8.59734,  8.69616,  8.79498,\n",
       "        8.8938 ,  8.99262,  9.09144,  9.19026,  9.28908,  9.3879 ,\n",
       "        9.48672,  9.58554,  9.68436,  9.78318,  9.882  ])"
      ]
     },
     "execution_count": 187,
     "metadata": {},
     "output_type": "execute_result"
    }
   ],
   "source": [
    "radio"
   ]
  },
  {
   "cell_type": "code",
   "execution_count": 188,
   "metadata": {
    "collapsed": true
   },
   "outputs": [],
   "source": [
    "Mcentral = 0\n",
    "Lcentral = 0\n",
    "Tcentral = t_opt #ponemos la que temperatura central que minimiza el error"
   ]
  },
  {
   "cell_type": "code",
   "execution_count": 189,
   "metadata": {},
   "outputs": [
    {
     "name": "stderr",
     "output_type": "stream",
     "text": [
      "C:\\Users\\david\\Anaconda3\\lib\\site-packages\\ipykernel_launcher.py:13: RuntimeWarning: invalid value encountered in double_scalars\n",
      "  del sys.path[0]\n"
     ]
    }
   ],
   "source": [
    "#INTEGRACION DESDE EL CENTRO\n",
    "\n",
    "#print(\"E\", \"fase\", \"i\", \"radio\", \"presion\", \"temperatura\", \"luminosidad\", \"masa\")\n",
    "\n",
    "i = 0\n",
    "\n",
    "while (i <=2 ):\n",
    "    \n",
    "    paso1_b(radio)\n",
    "    nu, Cl, ciclo = generacion_energia(temperatura)\n",
    "    \n",
    "    #print(\"--\", \"CONVEC\", i, \"%.7f\" % radio[i], \"%.7f\" % presion[i],\"%.7f\" % temperatura[i], \"%.6f\" % luminosidad[i], \"%.6f\" % masa[i] )\n",
    "    \n",
    "    i = i + 1"
   ]
  },
  {
   "cell_type": "code",
   "execution_count": 190,
   "metadata": {},
   "outputs": [],
   "source": [
    "for r in radio[i:len(radio)]:\n",
    "    \n",
    "    while(radio[i] <= radio_transicion_down):\n",
    "        \n",
    "        paso1_b(radio)\n",
    "        paso2_a2(radio)\n",
    "        paso3_a12(radio)\n",
    "        paso7_a2(radio)\n",
    "        paso8_a2(radio)\n",
    "        paso6_a2(radio)\n",
    "            \n",
    "        nu, Cl, ciclo = generacion_energia(temperatura)\n",
    "        \n",
    "        #print(ciclo, \"CONVEC\", i, \"%.7f\" % radio[i], \"%.7f\" % presion[i],\"%.7f\" % temperatura[i], \"%.6f\" % luminosidad[i], \"%.6f\" % masa[i] )\n",
    "    \n",
    "        i = i + 1"
   ]
  },
  {
   "cell_type": "code",
   "execution_count": 191,
   "metadata": {
    "collapsed": true
   },
   "outputs": [],
   "source": [
    "ind_trans = len(temperatura) - ind_tr - 1"
   ]
  },
  {
   "cell_type": "code",
   "execution_count": 192,
   "metadata": {},
   "outputs": [],
   "source": [
    "valores_up = valoresfrontera_up(radio, presion, temperatura, luminosidad, masa)\n",
    "#print(\"transicion_up\",\"%.2f\" % radio_transicion_down ,\"%.2f\" % valores_up[0],\"%.2f\" %  valores_up[1],\"%.2f\" %  valores_up[2],\"%.2f\" %  valores_up[3])"
   ]
  },
  {
   "cell_type": "code",
   "execution_count": 193,
   "metadata": {
    "collapsed": true
   },
   "outputs": [],
   "source": [
    "temperatura_up = np.zeros_like(radio)\n",
    "presion_up = np.zeros_like(radio)\n",
    "masa_up = np.zeros_like(radio)\n",
    "luminosidad_up = np.zeros_like(radio)\n",
    "radio_up = np.zeros_like(radio)\n",
    "\n",
    "#------------------------------------------------------------------------------------------------------------\n",
    "\n",
    "temperatura_up = temperatura\n",
    "presion_up = presion\n",
    "masa_up = masa\n",
    "luminosidad_up = luminosidad\n",
    "radio_up = radio"
   ]
  },
  {
   "cell_type": "code",
   "execution_count": 194,
   "metadata": {},
   "outputs": [],
   "source": [
    "valores_up = valoresfrontera_up(radio, presion, temperatura, luminosidad, masa)\n",
    "#print(\"transicion_down\",\"%.4f\" % valores_down[0],\"%.4f\" %  valores_down[1],\"%.4f\" %  valores_down[2],\"%.4f\" %  valores_down[3],\"%.4f\" %  valores_down[4])\n",
    "#print(\"transicion_up\",\"%.4f\" % radio_transicion_down ,\"%.4f\" % valores_up[0],\"%.4f\" %  valores_up[1],\"%.4f\" %  valores_up[2],\"%.4f\" %  valores_up[3])\n",
    "\n",
    "radio_transicion_down, presion_transicion_down, temperatura_transicion_down, luminosidad_transicion_down, masa_transicion_down = valores_down\n",
    "presion_transicion_up, temperatura_transicion_up, luminosidad_transicion_up, masa_transicion_up = valores_up\n",
    "\n",
    "Err_rel_presion = abs(presion_transicion_down - presion_transicion_up)/presion_transicion_down*100\n",
    "Err_rel_temperatura = abs( temperatura_transicion_down - temperatura_transicion_up)/temperatura_transicion_down*100\n",
    "Err_rel_luminosidad = abs( luminosidad_transicion_down - luminosidad_transicion_up)/luminosidad_transicion_down*100\n",
    "Err_rel_masa = abs(masa_transicion_down - masa_transicion_up)/masa_transicion_up*100\n",
    "\n",
    "Err_rel_total = (Err_rel_presion**2 + Err_rel_temperatura**2 + Err_rel_luminosidad**2 + Err_rel_masa**2)**0.5\n",
    "\n",
    "#print(\"Err.relat(%) -->\",\"%.2f\" % Err_rel_presion,\"%.2f\" % Err_rel_temperatura,\"%.2f\" % Err_rel_luminosidad,\"%.2f\" % Err_rel_masa,\"%.2f\" % Err_rel_total)\n"
   ]
  },
  {
   "cell_type": "markdown",
   "metadata": {},
   "source": [
    "## CÁLCULO DE LAS CAPAS \"EXTRA\""
   ]
  },
  {
   "cell_type": "code",
   "execution_count": 195,
   "metadata": {
    "collapsed": true
   },
   "outputs": [],
   "source": [
    "h = -Rini/100\n",
    "radio_extra = np.arange(Rtot, Rini-h, h)\n",
    "\n",
    "temperatura_extra = np.zeros_like(radio_extra)\n",
    "presion_extra = np.zeros_like(radio_extra)\n",
    "masa_extra = np.zeros_like(radio_extra)\n",
    "luminosidad_extra = np.zeros_like(radio_extra)"
   ]
  },
  {
   "cell_type": "code",
   "execution_count": 196,
   "metadata": {
    "collapsed": true
   },
   "outputs": [],
   "source": [
    "def paso1_extra(radio_extra):\n",
    "    \n",
    "    temperatura_extra[i] = A1*(1/radio_extra[i] - 1/Rtot)\n",
    "    presion_extra[i] = A2*temperatura_extra[i]**4.25\n",
    "    masa_extra[i] = Mtot\n",
    "    luminosidad_extra[i] = Ltot\n",
    "    \n",
    "    #nu, Cl, ciclo = generacion_energia(temperatura)\n",
    "    \n",
    "    #gradiente_presion[i] = -Cp*(presion[i]/temperatura[i])*(masa[i]/radio[i]**2)\n",
    "    #gradiente_temperatura[i] = -Ct*(presion[i]**2/temperatura[i]**8.5)*(luminosidad[i]/radio[i]**2)\n",
    "    #gradiente_masa[i] = Cm*(presion[i]/temperatura[i])*radio[i]**2\n",
    "    #gradiente_luminosidad[i] = Cl*presion[i]**2*temperatura[i]**(nu-2)*radio[i]**2"
   ]
  },
  {
   "cell_type": "code",
   "execution_count": 197,
   "metadata": {},
   "outputs": [],
   "source": [
    "#INTEGRACION DESDE LA SUPERFICIE PARA LAS CAPAS \"EXTRA\"\n",
    "\n",
    "#print(\"E\", \"fase\", \"i\", \"radio\", \"presion\", \"temperatura\", \"luminosidad\", \"masa\")\n",
    "\n",
    "i = -len(radio_extra)\n",
    "\n",
    "while (i < 0 ):\n",
    "    \n",
    "    paso1_extra(radio_extra)\n",
    "    #print(\"--\", \"^^^^^^\", i, \"%.2f\" % radio_extra[i], \"%.4f\" % presion_extra[i],\"%.4f\" % temperatura_extra[i], \"%.3f\" % luminosidad_extra[i], \"%.3f\" % masa_extra[i] )\n",
    "    \n",
    "    i = i + 1"
   ]
  },
  {
   "cell_type": "markdown",
   "metadata": {},
   "source": [
    "# PRESENTACION FINAL DEL MODELO"
   ]
  },
  {
   "cell_type": "code",
   "execution_count": 198,
   "metadata": {
    "collapsed": true
   },
   "outputs": [],
   "source": [
    "temperatura = np.append(temperatura_extra, temperatura_down[0:81])\n",
    "temperatura = np.append(temperatura, temperatura_up[19::-1])\n",
    "\n",
    "presion = np.append(presion_extra, presion_down[0:81])\n",
    "presion = np.append(presion, presion_up[19::-1])\n",
    "\n",
    "luminosidad = np.append(luminosidad_extra, luminosidad_down[0:81])\n",
    "luminosidad = np.append(luminosidad, luminosidad_up[19::-1])\n",
    "\n",
    "masa = np.append(masa_extra, masa_down[0:81])\n",
    "masa = np.append(masa, masa_up[19::-1])\n",
    "\n",
    "radio = np.append(radio_extra, radio_down)"
   ]
  },
  {
   "cell_type": "code",
   "execution_count": 199,
   "metadata": {},
   "outputs": [],
   "source": [
    "headers_text = np.array(['Radio', 'Temperatura', 'Presion', 'Luminosidad', 'Masa'])\n",
    "\n",
    "parametros = {'Radio': radio, 'Temperatura': temperatura, 'Presion': presion, 'Luminosidad': luminosidad, 'Masa': masa} \n",
    "\n",
    "parametros_table = pd.DataFrame(parametros, columns = headers_text)\n",
    "#parametros_table"
   ]
  }
 ],
 "metadata": {
  "kernelspec": {
   "display_name": "Python 3",
   "language": "python",
   "name": "python3"
  },
  "language_info": {
   "codemirror_mode": {
    "name": "ipython",
    "version": 3
   },
   "file_extension": ".py",
   "mimetype": "text/x-python",
   "name": "python",
   "nbconvert_exporter": "python",
   "pygments_lexer": "ipython3",
   "version": "3.6.3"
  }
 },
 "nbformat": 4,
 "nbformat_minor": 2
}
